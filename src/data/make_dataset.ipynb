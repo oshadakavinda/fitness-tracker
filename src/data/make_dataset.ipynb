{
 "cells": [
  {
   "cell_type": "markdown",
   "metadata": {},
   "source": []
  },
  {
   "cell_type": "code",
   "execution_count": 1,
   "metadata": {},
   "outputs": [],
   "source": [
    "import pandas as pd\n",
    "from glob import glob\n",
    "import os"
   ]
  },
  {
   "cell_type": "markdown",
   "metadata": {},
   "source": [
    "# Read single CSV file"
   ]
  },
  {
   "cell_type": "code",
   "execution_count": 2,
   "metadata": {},
   "outputs": [],
   "source": [
    "single_file_acc = pd.read_csv(\"../../data/raw/MetaMotion/A-bench-heavy2-rpe8_MetaWear_2019-01-11T16.10.08.270_C42732BE255C_Accelerometer_12.500Hz_1.4.4.csv\")\n",
    "single_file_gyr = pd.read_csv(\"../../data/raw/MetaMotion/A-bench-heavy2-rpe8_MetaWear_2019-01-11T16.10.08.270_C42732BE255C_Gyroscope_25.000Hz_1.4.4.csv\")"
   ]
  },
  {
   "cell_type": "markdown",
   "metadata": {},
   "source": [
    "# List all data in data/raw/MetaMotion"
   ]
  },
  {
   "cell_type": "code",
   "execution_count": 3,
   "metadata": {},
   "outputs": [
    {
     "data": {
      "text/plain": [
       "187"
      ]
     },
     "execution_count": 3,
     "metadata": {},
     "output_type": "execute_result"
    }
   ],
   "source": [
    "files = glob(\"../../data/raw/MetaMotion/*.csv\")\n",
    "len(files)"
   ]
  },
  {
   "cell_type": "markdown",
   "metadata": {},
   "source": [
    "# Extract features from filename"
   ]
  },
  {
   "cell_type": "code",
   "execution_count": 5,
   "metadata": {},
   "outputs": [],
   "source": [
    "data_path=\"../../data/raw/MetaMotion/\"\n",
    "\n",
    "f = files[0]\n",
    "# Extract only the filename without the path\n",
    "filename = os.path.basename(f)\n",
    "\n",
    "# Get the part before the first hyphen to isolate \"A\"\n",
    "participant = filename.split(\"-\")[0]\n",
    "label = filename.split(\"-\")[1]\n",
    "category = filename.split(\"-\")[2].rstrip(\"_MetaWear_20193\")\n",
    "\n",
    "df = pd.read_csv(f)\n",
    "\n",
    "df[\"participant\"] = participant\n",
    "df[\"label\"] = label\n",
    "df[\"category\"] = category"
   ]
  },
  {
   "cell_type": "markdown",
   "metadata": {},
   "source": [
    "# Read all files"
   ]
  },
  {
   "cell_type": "code",
   "execution_count": 6,
   "metadata": {},
   "outputs": [],
   "source": [
    "acc_df = pd.DataFrame()\n",
    "gyr_df =pd.DataFrame()\n",
    "\n",
    "acc_set = 1\n",
    "gyr_set = 1\n",
    "\n",
    "for f in files:\n",
    "    filename = os.path.basename(f)\n",
    "    participant = filename.split(\"-\")[0]\n",
    "    label = filename.split(\"-\")[1]\n",
    "    category = filename.split(\"-\")[2].rstrip(\"_MetaWear_20193\")\n",
    "   \n",
    "    df = pd.read_csv(f)\n",
    "\n",
    "    df[\"participant\"] = participant\n",
    "    df[\"label\"] = label\n",
    "    df[\"category\"] = category\n",
    "\n",
    "    if \"Accelerometer\" in f:\n",
    "        df[\"set\"] = acc_set\n",
    "        acc_set += 1\n",
    "        acc_df = pd.concat([acc_df,df])\n",
    "        \n",
    "    if \"Gyroscope\" in f:\n",
    "        df[\"set\"] = gyr_set\n",
    "        gyr_set += 1\n",
    "        gyr_df = pd.concat([gyr_df,df])"
   ]
  },
  {
   "cell_type": "markdown",
   "metadata": {},
   "source": [
    "# Working with datetimes"
   ]
  },
  {
   "cell_type": "code",
   "execution_count": 7,
   "metadata": {},
   "outputs": [
    {
     "name": "stdout",
     "output_type": "stream",
     "text": [
      "<class 'pandas.core.frame.DataFrame'>\n",
      "Index: 23578 entries, 0 to 241\n",
      "Data columns (total 10 columns):\n",
      " #   Column        Non-Null Count  Dtype  \n",
      "---  ------        --------------  -----  \n",
      " 0   epoch (ms)    23578 non-null  int64  \n",
      " 1   time (01:00)  23578 non-null  object \n",
      " 2   elapsed (s)   23578 non-null  float64\n",
      " 3   x-axis (g)    23578 non-null  float64\n",
      " 4   y-axis (g)    23578 non-null  float64\n",
      " 5   z-axis (g)    23578 non-null  float64\n",
      " 6   participant   23578 non-null  object \n",
      " 7   label         23578 non-null  object \n",
      " 8   category      23578 non-null  object \n",
      " 9   set           23578 non-null  int64  \n",
      "dtypes: float64(4), int64(2), object(4)\n",
      "memory usage: 2.0+ MB\n"
     ]
    }
   ],
   "source": [
    "acc_df.info()\n",
    "\n",
    "pd.to_datetime(df[\"epoch (ms)\"],unit =\"ms\")\n",
    "\n",
    "acc_df.index = pd.to_datetime(acc_df[\"epoch (ms)\"],unit =\"ms\")\n",
    "gyr_df.index = pd.to_datetime(gyr_df[\"epoch (ms)\"],unit =\"ms\")\n",
    "\n",
    "del acc_df[\"epoch (ms)\"]\n",
    "del acc_df[\"time (01:00)\"]\n",
    "del acc_df[\"elapsed (s)\"]\n",
    "\n",
    "del gyr_df[\"epoch (ms)\"]\n",
    "del gyr_df[\"time (01:00)\"]\n",
    "del gyr_df[\"elapsed (s)\"]"
   ]
  },
  {
   "cell_type": "markdown",
   "metadata": {},
   "source": [
    "# Turn into function"
   ]
  },
  {
   "cell_type": "code",
   "execution_count": 8,
   "metadata": {},
   "outputs": [],
   "source": [
    "files = glob(\"../../data/raw/MetaMotion/*.csv\")\n",
    "\n",
    "def read_data_from_files(files):\n",
    "    acc_df = pd.DataFrame()\n",
    "    gyr_df =pd.DataFrame()\n",
    "\n",
    "    acc_set = 1\n",
    "    gyr_set = 1\n",
    "\n",
    "    for f in files:\n",
    "        filename = os.path.basename(f)\n",
    "        participant = filename.split(\"-\")[0]\n",
    "        label = filename.split(\"-\")[1]\n",
    "        category = filename.split(\"-\")[2].rstrip(\"_MetaWear_20193\")\n",
    "    \n",
    "        df = pd.read_csv(f)\n",
    "\n",
    "        df[\"participant\"] = participant\n",
    "        df[\"label\"] = label\n",
    "        df[\"category\"] = category\n",
    "\n",
    "        if \"Accelerometer\" in f:\n",
    "            df[\"set\"] = acc_set\n",
    "            acc_set += 1\n",
    "            acc_df = pd.concat([acc_df,df])\n",
    "            \n",
    "        if \"Gyroscope\" in f:\n",
    "            df[\"set\"] = gyr_set\n",
    "            gyr_set += 1\n",
    "            gyr_df = pd.concat([gyr_df,df])\n",
    "\n",
    "    acc_df.index = pd.to_datetime(acc_df[\"epoch (ms)\"],unit =\"ms\")\n",
    "    gyr_df.index = pd.to_datetime(gyr_df[\"epoch (ms)\"],unit =\"ms\")\n",
    "\n",
    "    del acc_df[\"epoch (ms)\"]\n",
    "    del acc_df[\"time (01:00)\"]\n",
    "    del acc_df[\"elapsed (s)\"]\n",
    "\n",
    "    del gyr_df[\"epoch (ms)\"]\n",
    "    del gyr_df[\"time (01:00)\"]\n",
    "    del gyr_df[\"elapsed (s)\"]\n",
    "    \n",
    "    return acc_df,gyr_df\n",
    "\n",
    "acc_df,gyr_df = read_data_from_files(files)"
   ]
  },
  {
   "cell_type": "markdown",
   "metadata": {},
   "source": [
    "# Merging datasets"
   ]
  },
  {
   "cell_type": "code",
   "execution_count": 10,
   "metadata": {},
   "outputs": [],
   "source": [
    "data_merged = pd.concat([acc_df.iloc[:,:3],gyr_df],axis =1 )\n",
    "\n",
    "data_merged.columns = [\n",
    "    \"acc_x\",\n",
    "    \"acc_y\",\n",
    "    \"acc_z\",\n",
    "    \"gyr_x\",\n",
    "    \"gyr_y\",\n",
    "    \"gyr_z\",\n",
    "    \"participant\",\n",
    "    \"label\",\n",
    "    \"category\",\n",
    "    \"set\",\n",
    "]"
   ]
  },
  {
   "cell_type": "markdown",
   "metadata": {},
   "source": [
    "# Resample data (frequency conversion)"
   ]
  },
  {
   "cell_type": "code",
   "execution_count": 11,
   "metadata": {},
   "outputs": [],
   "source": [
    "\n",
    "sampling = {\n",
    "    \"acc_x\": \"mean\",\n",
    "    \"acc_y\": \"mean\",\n",
    "    \"acc_z\": \"mean\",\n",
    "    \"gyr_x\": \"mean\",\n",
    "    \"gyr_y\": \"mean\",\n",
    "    \"gyr_z\": \"mean\",\n",
    "    \"participant\": \"last\",\n",
    "    \"label\":\"last\",\n",
    "    \"category\":\"last\",\n",
    "    \"set\":\"last\",\n",
    "}\n",
    "\n",
    "data_merged[:1000].resample(rule=\"200ms\").apply(sampling)\n",
    "\n",
    "#Split by day\n",
    "days = [g for n, g in data_merged.groupby(pd.Grouper(freq=\"D\"))]\n",
    "\n",
    "data_resampled = pd.concat([df.resample(rule=\"200ms\").apply(sampling).dropna() for df in days])\n",
    "\n",
    "data_resampled[\"set\"] = data_resampled[\"set\"].astype(\"int\")"
   ]
  },
  {
   "cell_type": "markdown",
   "metadata": {},
   "source": [
    "# Export dataset"
   ]
  },
  {
   "cell_type": "code",
   "execution_count": null,
   "metadata": {},
   "outputs": [],
   "source": [
    "\n",
    "data_resampled.to_pickle(\"../../data/interim/01_data_processed.pkl\")"
   ]
  }
 ],
 "metadata": {
  "kernelspec": {
   "display_name": "tracking-barbell-exercises",
   "language": "python",
   "name": "python3"
  },
  "language_info": {
   "codemirror_mode": {
    "name": "ipython",
    "version": 3
   },
   "file_extension": ".py",
   "mimetype": "text/x-python",
   "name": "python",
   "nbconvert_exporter": "python",
   "pygments_lexer": "ipython3",
   "version": "3.8.20"
  }
 },
 "nbformat": 4,
 "nbformat_minor": 2
}
